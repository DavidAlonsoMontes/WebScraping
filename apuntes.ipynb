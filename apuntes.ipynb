{
 "cells": [
  {
   "cell_type": "code",
   "execution_count": null,
   "metadata": {},
   "outputs": [],
   "source": [
    "import requests"
   ]
  },
  {
   "cell_type": "markdown",
   "metadata": {},
   "source": [
    "# REQUESTS\n",
    "* La librería requests en Python es una de las más populares para realizar peticiones HTTP de manera sencilla y eficiente.\n",
    "* Se utiliza para enviar solicitudes a servidores web y obtener respuestas, lo que permite interactuar con APIs, descargar datos o incluso simular la navegación web.\n",
    "\n",
    "Nosotros haremos una peticion y obtendremos una respuesta"
   ]
  },
  {
   "cell_type": "code",
   "execution_count": null,
   "metadata": {},
   "outputs": [],
   "source": [
    "url=\"https://www.organic-bio.com/fr/annuaire/fruits/?groupService=45\"\n",
    "res=requests.get(url)\n",
    "print(f'El tipo de una requests es: {type(res)}')\n",
    "dir(res)\n",
    "print(f'Codigo de estado: {res.status_code}')\n",
    "\n",
    "print(f'Request HEADERS: {res.request.headers}')\n",
    "print(f'Response HEADERS: {res.headers}')\n",
    "print(f'Cookies: {res.cookies}')\n",
    "\n",
    "#print(res.text)"
   ]
  },
  {
   "cell_type": "code",
   "execution_count": null,
   "metadata": {},
   "outputs": [],
   "source": [
    "from bs4 import BeautifulSoup\n",
    "url=\"https://www.game.es/ACCESORIOS/ALTAVOCES/PC-GAMING/CREATIVE-SBS-E2900-ALTAVOCES/V0Q2FS\"\n",
    "res=requests.get(url)\n",
    "print(f'Respuesta: {res.status_code}')\n",
    "\n",
    "bs=BeautifulSoup(res.text,\"html.parser\")\n",
    "bs.title.string"
   ]
  }
 ],
 "metadata": {
  "kernelspec": {
   "display_name": "Python 3",
   "language": "python",
   "name": "python3"
  },
  "language_info": {
   "codemirror_mode": {
    "name": "ipython",
    "version": 3
   },
   "file_extension": ".py",
   "mimetype": "text/x-python",
   "name": "python",
   "nbconvert_exporter": "python",
   "pygments_lexer": "ipython3",
   "version": "3.11.4"
  }
 },
 "nbformat": 4,
 "nbformat_minor": 2
}
